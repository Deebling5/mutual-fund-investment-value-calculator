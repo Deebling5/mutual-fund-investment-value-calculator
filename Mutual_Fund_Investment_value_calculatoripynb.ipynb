{
  "nbformat": 4,
  "nbformat_minor": 0,
  "metadata": {
    "colab": {
      "name": "Mutual-Fund_Investment_value_calculatoripynb",
      "provenance": [],
      "collapsed_sections": []
    },
    "kernelspec": {
      "name": "python3",
      "display_name": "Python 3"
    },
    "language_info": {
      "name": "python"
    }
  },
  "cells": [
    {
      "cell_type": "code",
      "execution_count": null,
      "metadata": {
        "id": "YsE4t03eSUOL"
      },
      "outputs": [],
      "source": [
        "a = 0\n",
        "b = 1\n",
        "SIP = int(input('SIP starting amount\\n'))\n",
        "y = int(input('input Number of years\\n'))\n",
        "inc = float(input('SIP amount % increase per year\\n'))\n",
        "inc = inc/100\n",
        "rate = float(input('Enter rate of return of mutual fund\\n'))\n",
        "rate = rate/100\n",
        "eratio = float(input('Enter expense ratio of the mutual fund\\n'))\n",
        "eratio = eratio/100\n",
        "sip1 = SIP\n"
      ]
    },
    {
      "cell_type": "code",
      "source": [
        "def ac_value():\n",
        "  global m,o,n,p,q,inc,rate,eratio,b,Value,sip1\n",
        "  m = (1 - eratio)\n",
        "  o = (1 + rate)\n",
        "  n = m**b\n",
        "  p = o**b\n",
        "  q = (1 + inc)**b\n",
        "  Value = (m * o * sip1 * 12) * (((p * n) - q)/(rate - eratio - (rate * eratio) - inc))\n",
        "  Value = round(Value,2)\n",
        "\n",
        "def cal_invested():\n",
        "  global a,SIP,inc,a1\n",
        "  a = a + (SIP * 12)\n",
        "  a1 = SIP\n",
        "  SIP = SIP + (inc*SIP)\n",
        "  a = round(a,2)\n",
        "  SIP = round(SIP,2)\n"
      ],
      "metadata": {
        "id": "1zhrrFyBSa7z"
      },
      "execution_count": null,
      "outputs": []
    },
    {
      "cell_type": "code",
      "source": [
        "while b <= y:\n",
        "  ac_value()\n",
        "  cal_invested()\n",
        "  print('year {0}: monthly SIP amount {1}, total invested amount {2}, Actual Value of investment is: {3} '.format(b,a1,a,Value))\n",
        "  b = b + 1\n",
        "else:\n",
        "  pass"
      ],
      "metadata": {
        "id": "ZQ936cXxSa-u"
      },
      "execution_count": null,
      "outputs": []
    },
    {
      "cell_type": "code",
      "source": [
        ""
      ],
      "metadata": {
        "id": "utjeQa_lSbBj"
      },
      "execution_count": null,
      "outputs": []
    }
  ]
}